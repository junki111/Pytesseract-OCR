{
  "nbformat": 4,
  "nbformat_minor": 0,
  "metadata": {
    "colab": {
      "name": "FinalProject.ipynb",
      "provenance": [],
      "collapsed_sections": []
    },
    "kernelspec": {
      "name": "python3",
      "display_name": "Python 3"
    }
  },
  "cells": [
    {
      "cell_type": "code",
      "metadata": {
        "colab": {
          "base_uri": "https://localhost:8080/"
        },
        "id": "GW_slxta3f1A",
        "outputId": "093ceb6e-b055-45fa-9df7-82b9d20b30ab"
      },
      "source": [
        "!sudo apt install tesseract-ocr"
      ],
      "execution_count": 1,
      "outputs": [
        {
          "output_type": "stream",
          "text": [
            "Reading package lists... Done\n",
            "Building dependency tree       \n",
            "Reading state information... Done\n",
            "The following additional packages will be installed:\n",
            "  tesseract-ocr-eng tesseract-ocr-osd\n",
            "The following NEW packages will be installed:\n",
            "  tesseract-ocr tesseract-ocr-eng tesseract-ocr-osd\n",
            "0 upgraded, 3 newly installed, 0 to remove and 15 not upgraded.\n",
            "Need to get 4,795 kB of archives.\n",
            "After this operation, 15.8 MB of additional disk space will be used.\n",
            "Get:1 http://archive.ubuntu.com/ubuntu bionic/universe amd64 tesseract-ocr-eng all 4.00~git24-0e00fe6-1.2 [1,588 kB]\n",
            "Get:2 http://archive.ubuntu.com/ubuntu bionic/universe amd64 tesseract-ocr-osd all 4.00~git24-0e00fe6-1.2 [2,989 kB]\n",
            "Get:3 http://archive.ubuntu.com/ubuntu bionic/universe amd64 tesseract-ocr amd64 4.00~git2288-10f4998a-2 [218 kB]\n",
            "Fetched 4,795 kB in 3s (1,622 kB/s)\n",
            "debconf: unable to initialize frontend: Dialog\n",
            "debconf: (No usable dialog-like program is installed, so the dialog based frontend cannot be used. at /usr/share/perl5/Debconf/FrontEnd/Dialog.pm line 76, <> line 3.)\n",
            "debconf: falling back to frontend: Readline\n",
            "debconf: unable to initialize frontend: Readline\n",
            "debconf: (This frontend requires a controlling tty.)\n",
            "debconf: falling back to frontend: Teletype\n",
            "dpkg-preconfigure: unable to re-open stdin: \n",
            "Selecting previously unselected package tesseract-ocr-eng.\n",
            "(Reading database ... 146442 files and directories currently installed.)\n",
            "Preparing to unpack .../tesseract-ocr-eng_4.00~git24-0e00fe6-1.2_all.deb ...\n",
            "Unpacking tesseract-ocr-eng (4.00~git24-0e00fe6-1.2) ...\n",
            "Selecting previously unselected package tesseract-ocr-osd.\n",
            "Preparing to unpack .../tesseract-ocr-osd_4.00~git24-0e00fe6-1.2_all.deb ...\n",
            "Unpacking tesseract-ocr-osd (4.00~git24-0e00fe6-1.2) ...\n",
            "Selecting previously unselected package tesseract-ocr.\n",
            "Preparing to unpack .../tesseract-ocr_4.00~git2288-10f4998a-2_amd64.deb ...\n",
            "Unpacking tesseract-ocr (4.00~git2288-10f4998a-2) ...\n",
            "Setting up tesseract-ocr-osd (4.00~git24-0e00fe6-1.2) ...\n",
            "Setting up tesseract-ocr-eng (4.00~git24-0e00fe6-1.2) ...\n",
            "Setting up tesseract-ocr (4.00~git2288-10f4998a-2) ...\n",
            "Processing triggers for man-db (2.8.3-2ubuntu0.1) ...\n"
          ],
          "name": "stdout"
        }
      ]
    },
    {
      "cell_type": "code",
      "metadata": {
        "colab": {
          "base_uri": "https://localhost:8080/"
        },
        "id": "0tljM9Ey3UAC",
        "outputId": "73f3a602-2523-4528-ac15-14e0027bd2d9"
      },
      "source": [
        "!which tesseract"
      ],
      "execution_count": 2,
      "outputs": [
        {
          "output_type": "stream",
          "text": [
            "/usr/bin/tesseract\n"
          ],
          "name": "stdout"
        }
      ]
    },
    {
      "cell_type": "code",
      "metadata": {
        "colab": {
          "base_uri": "https://localhost:8080/"
        },
        "id": "XDfBCL393tIq",
        "outputId": "594bc6b6-ebbb-497c-9f92-ef1aba3163b6"
      },
      "source": [
        "!pip install pytesseract\r\n",
        "!pip install pypng\r\n",
        "!pip install gTTS"
      ],
      "execution_count": 3,
      "outputs": [
        {
          "output_type": "stream",
          "text": [
            "Collecting pytesseract\n",
            "  Downloading https://files.pythonhosted.org/packages/a0/e6/a4e9fc8a93c1318540e8de6d8d4beb5749b7960388a7c7f27799fc2dd016/pytesseract-0.3.7.tar.gz\n",
            "Requirement already satisfied: Pillow in /usr/local/lib/python3.6/dist-packages (from pytesseract) (7.0.0)\n",
            "Building wheels for collected packages: pytesseract\n",
            "  Building wheel for pytesseract (setup.py) ... \u001b[?25l\u001b[?25hdone\n",
            "  Created wheel for pytesseract: filename=pytesseract-0.3.7-py2.py3-none-any.whl size=13945 sha256=b0dd70f4c02558c490d8db787f68c1e1307f9a1b44812a2118ca6be2457e5f2d\n",
            "  Stored in directory: /root/.cache/pip/wheels/81/20/7e/1dd0daad1575d5260916bb1e9781246430647adaef4b3ca3b3\n",
            "Successfully built pytesseract\n",
            "Installing collected packages: pytesseract\n",
            "Successfully installed pytesseract-0.3.7\n",
            "Collecting pypng\n",
            "\u001b[?25l  Downloading https://files.pythonhosted.org/packages/bc/fb/f719f1ac965e2101aa6ea6f54ef8b40f8fbb033f6ad07c017663467f5147/pypng-0.0.20.tar.gz (649kB)\n",
            "\u001b[K     |████████████████████████████████| 655kB 5.2MB/s \n",
            "\u001b[?25hBuilding wheels for collected packages: pypng\n",
            "  Building wheel for pypng (setup.py) ... \u001b[?25l\u001b[?25hdone\n",
            "  Created wheel for pypng: filename=pypng-0.0.20-cp36-none-any.whl size=67161 sha256=8c6a32149a9b943f8492ff57046f7c55f3fc211178299bac5b5ed4c51b00dd74\n",
            "  Stored in directory: /root/.cache/pip/wheels/41/6b/ef/0493b536b6d4722c2ae9486691b1d49b922b9877922beeabb3\n",
            "Successfully built pypng\n",
            "Installing collected packages: pypng\n",
            "Successfully installed pypng-0.0.20\n",
            "Collecting gTTS\n",
            "  Downloading https://files.pythonhosted.org/packages/5f/b9/94e59337107be134b21ce395a29fc0715b707b560108d6797de2d93e1178/gTTS-2.2.2-py3-none-any.whl\n",
            "Requirement already satisfied: requests in /usr/local/lib/python3.6/dist-packages (from gTTS) (2.23.0)\n",
            "Requirement already satisfied: click in /usr/local/lib/python3.6/dist-packages (from gTTS) (7.1.2)\n",
            "Requirement already satisfied: six in /usr/local/lib/python3.6/dist-packages (from gTTS) (1.15.0)\n",
            "Requirement already satisfied: chardet<4,>=3.0.2 in /usr/local/lib/python3.6/dist-packages (from requests->gTTS) (3.0.4)\n",
            "Requirement already satisfied: certifi>=2017.4.17 in /usr/local/lib/python3.6/dist-packages (from requests->gTTS) (2020.12.5)\n",
            "Requirement already satisfied: idna<3,>=2.5 in /usr/local/lib/python3.6/dist-packages (from requests->gTTS) (2.10)\n",
            "Requirement already satisfied: urllib3!=1.25.0,!=1.25.1,<1.26,>=1.21.1 in /usr/local/lib/python3.6/dist-packages (from requests->gTTS) (1.24.3)\n",
            "Installing collected packages: gTTS\n",
            "Successfully installed gTTS-2.2.2\n"
          ],
          "name": "stdout"
        }
      ]
    },
    {
      "cell_type": "code",
      "metadata": {
        "id": "LhmylmNr2zlR"
      },
      "source": [
        "# text recognition\r\n",
        "import cv2\r\n",
        "import pytesseract\r\n",
        "from google.colab.patches import cv2_imshow\r\n",
        "from gtts import gTTS\r\n",
        "from IPython.display import Audio\r\n",
        "import os\r\n",
        "\r\n",
        "# read image\r\n",
        "im = cv2.imread('/content/drive/MyDrive/example.png')"
      ],
      "execution_count": 4,
      "outputs": []
    },
    {
      "cell_type": "code",
      "metadata": {
        "id": "0YBgPYWN3zs1"
      },
      "source": [
        "# preprocessing functions\r\n",
        "# gray scale\r\n",
        "def grayConvert(img):\r\n",
        "    \r\n",
        "    img = cv2.cvtColor(img, cv2.COLOR_BGR2GRAY)\r\n",
        "    cv2.imwrite(r\"./preprocess/img_gray.png\",img)\r\n",
        "    return img\r\n",
        "\r\n",
        "# blur the image\r\n",
        "def blurConvert(img) :\r\n",
        "    img_blur = cv2.GaussianBlur(img,(5,5),0)\r\n",
        "    cv2.imwrite(r\"./preprocess/img_blur.png\",img)    \r\n",
        "    return img_blur\r\n",
        "\r\n",
        "# threshold the image \r\n",
        "def threshold(img):\r\n",
        "    #pixels with value below 100 are turned black (0) and those with higher value are turned white (255)\r\n",
        "    img = cv2.threshold(img, 100, 255, cv2.THRESH_OTSU | cv2.THRESH_BINARY)[1]    \r\n",
        "    cv2.imwrite(r\"./preprocess/img_threshold.png\",img)\r\n",
        "    return img"
      ],
      "execution_count": 5,
      "outputs": []
    },
    {
      "cell_type": "code",
      "metadata": {
        "id": "BJDv45sVGwuC"
      },
      "source": [
        "# text detection\r\n",
        "def contours_text(orig, img, contours):\r\n",
        "    for cnt in contours: \r\n",
        "        x, y, w, h = cv2.boundingRect(cnt) \r\n",
        "\r\n",
        "        # Drawing a rectangle on copied image \r\n",
        "        rect = cv2.rectangle(orig, (x, y), (x + w, y + h), (0, 255, 255), 2) \r\n",
        "        \r\n",
        "        cv2_imshow(rect)\r\n",
        "        cv2.waitKey()\r\n",
        "\r\n",
        "        # Cropping the text block for giving input to OCR \r\n",
        "        cropped = orig[y:y + h, x:x + w] \r\n",
        "\r\n",
        "        # Apply OCR on the cropped image \r\n",
        "        config = ('-l eng --oem 1 --psm 3')\r\n",
        "        text = pytesseract.image_to_string(cropped, config=config) \r\n",
        "\r\n",
        "        return text"
      ],
      "execution_count": 6,
      "outputs": []
    },
    {
      "cell_type": "code",
      "metadata": {
        "id": "iKCmNfcoG9Uv"
      },
      "source": [
        "#perform the necessary preprocessing using the earlier defined functions and get the contours\r\n",
        "grayImg = grayConvert(im)\r\n",
        "blurImg = blurConvert(grayImg)\r\n",
        "threshedImg = threshold(blurImg)\r\n",
        "contours, _ = cv2.findContours(threshedImg, cv2.RETR_EXTERNAL, cv2.CHAIN_APPROX_NONE)"
      ],
      "execution_count": 7,
      "outputs": []
    },
    {
      "cell_type": "code",
      "metadata": {
        "colab": {
          "base_uri": "https://localhost:8080/",
          "height": 360
        },
        "id": "1jfm0SRz3boD",
        "outputId": "f18e03ba-41f3-4d1b-ee0e-4bbd607f7656"
      },
      "source": [
        "#get the text\r\n",
        "text = contours_text(im, threshedImg, contours)\r\n",
        "print(text)"
      ],
      "execution_count": 8,
      "outputs": [
        {
          "output_type": "display_data",
          "data": {
            "image/png": "[encoded data removed]",
            "text/plain": [
              "<PIL.Image.Image image mode=RGB size=318x158 at 0x7FD32622B128>"
            ]
          },
          "metadata": {
            "tags": []
          }
        },
        {
          "output_type": "stream",
          "text": [
            " \n",
            "\n",
            " \n",
            "\n",
            "Coolest text effect\n",
            "Muse Widget |\n",
            "\n",
            " \n",
            "\n",
            " \n",
            "\f\n"
          ],
          "name": "stdout"
        }
      ]
    },
    {
      "cell_type": "code",
      "metadata": {
        "colab": {
          "base_uri": "https://localhost:8080/",
          "height": 75
        },
        "id": "O0LX7xCW3__K",
        "outputId": "c68a48b2-5f09-4ee3-e47d-b3b2ff9017fa"
      },
      "source": [
        "language = 'en'\r\n",
        "\r\n",
        "#get speech after passing the text and language to the engine\r\n",
        "speech = gTTS(text = text, lang=language, slow=False)\r\n",
        "\r\n",
        "#save the speech in an mp3 for playback\r\n",
        "speech.save(\"speech.mp3\")\r\n",
        "\r\n",
        "sound_file = 'speech.mp3'\r\n",
        "\r\n",
        "#playback the speech\r\n",
        "Audio(sound_file, autoplay=True)"
      ],
      "execution_count": 9,
      "outputs": [
        {
          "output_type": "execute_result",
          "data": {
            "text/html": [
              "\n",
              "                <audio controls=\"controls\" autoplay=\"autoplay\">\n",
              "                    <source src=\"data:audio/mpeg;base64,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\" type=\"audio/mpeg\" />\n",
              "                    Your browser does not support the audio element.\n",
              "                </audio>\n",
              "              "
            ],
            "text/plain": [
              "<IPython.lib.display.Audio object>"
            ]
          },
          "metadata": {
            "tags": []
          },
          "execution_count": 9
        }
      ]
    },
    {
      "cell_type": "code",
      "metadata": {
        "id": "qQRCtBDj8kBP"
      },
      "source": [
        ""
      ],
      "execution_count": 9,
      "outputs": []
    }
  ]
}